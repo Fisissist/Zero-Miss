{
  "nbformat": 4,
  "nbformat_minor": 0,
  "metadata": {
    "colab": {
      "provenance": [],
      "authorship_tag": "ABX9TyOZabKOd4PyIFAixg+TvFiw",
      "include_colab_link": true
    },
    "kernelspec": {
      "name": "python3",
      "display_name": "Python 3"
    },
    "language_info": {
      "name": "python"
    }
  },
  "cells": [
    {
      "cell_type": "markdown",
      "metadata": {
        "id": "view-in-github",
        "colab_type": "text"
      },
      "source": [
        "<a href=\"https://colab.research.google.com/github/Fisissist/Zero-Miss/blob/main/Zero_Miss.ipynb\" target=\"_parent\"><img src=\"https://colab.research.google.com/assets/colab-badge.svg\" alt=\"Open In Colab\"/></a>"
      ]
    },
    {
      "cell_type": "code",
      "execution_count": null,
      "metadata": {
        "colab": {
          "base_uri": "https://localhost:8080/"
        },
        "id": "Kx6oPuG12qQk",
        "outputId": "3c29ee26-404d-43ae-ef45-d37bfa43c30c"
      },
      "outputs": [
        {
          "output_type": "stream",
          "name": "stdout",
          "text": [
            "Query? (y/n): y\n",
            "Welcome to Zero Miss! I can tell you how much you will be off at different ranges.\n",
            "All I need to know how many inches you were off and what distance, in meters, you chose to zero at.\n",
            "Inches Off: o\n",
            "Invalid input. Enter a number.\n",
            "Inches Off: po\n",
            "Invalid input. Enter a number.\n",
            "Inches Off: op[\n",
            "Invalid input. Enter a number.\n",
            "Inches Off: 2\n",
            "Zero Distance: 25\n",
            "------------------------------------------------------------------------------------------------------------------\n",
            "At 25.0 meters, you were 0.0508 meters off at an angle of 0.002032 radians(rounded to the sixth decimal place).\n",
            "------------------------------------------------------------------------------------------------------------------\n",
            "At 100 meters,you would be 0.2032 meters,\n",
            "or 8.0 inches off.\n",
            "At 200 meters,you would be 0.4064 meters,\n",
            "or 16.0 inches off.\n",
            "At 300 meters,you would be 0.6096 meters,\n",
            "or 24.000000000000004 inches off.\n",
            "------------------------------------------------------------------------------------------------------------------\n",
            "At what distance would you like to know how much you will be off? k\n",
            "Invalid input. Enter a number.\n",
            "At what distance would you like to know how much you will be off? lk\n",
            "Invalid input. Enter a number.\n",
            "At what distance would you like to know how much you will be off? 560\n",
            "At 560.0 meters, you would be 1.13792 meters,\n",
            "or 44.800000000000004 inches off.\n",
            "------------------------------------------------------------------------------------------------------------------\n",
            "\n",
            "Query? (y/n): n\n",
            "Goodbye!\n"
          ]
        }
      ],
      "source": [
        "from sympy import atan, tan # sympy was used as it is more accurate than math\n",
        "\n",
        "def seperate():\n",
        "    print('------------------------------------------------------------------------------------------------------------------')\n",
        "\n",
        "def welcome():\n",
        "    print('Welcome to Zero Miss! I can tell you how much you will be off at different ranges.')\n",
        "    print(\"All I need to know how many inches you were off and what distance, in meters, you chose to zero at.\")\n",
        "\n",
        "    #inchesOff = 1 # inches\n",
        "    while True:\n",
        "      try:\n",
        "        inchesOff = float(input('Inches Off: '))\n",
        "        break\n",
        "      except ValueError:\n",
        "        print('Invalid input. Enter a number.')\n",
        "\n",
        "    #distance = 25 #meters\n",
        "    while True:\n",
        "      try:\n",
        "        zeroDistance = float(input('Zero Distance: '))\n",
        "        break\n",
        "      except ValueError:\n",
        "        print('Invalid input. Enter a number.')\n",
        "\n",
        "    return inchesOff, zeroDistance\n",
        "\n",
        "def missedCalculator(angle, in_PerMeter, distance):# predicts miss distance\n",
        "    metersOffAtDistance = distance*tan(angle) # oppostie = adjacent * tangent\n",
        "    inchesOffAtDistance = metersOffAtDistance * in_PerMeter\n",
        "    return metersOffAtDistance, inchesOffAtDistance\n",
        "\n",
        "def battleDistance(angle, in_PerMeter):# gives standard battle distance: 100m, 200m, 300m\n",
        "    for distance in range(100,400,100):\n",
        "      metersOffAtDistance, inchesOffAtDistance = missedCalculator(angle, in_PerMeter, distance)\n",
        "\n",
        "      print(f\"At {distance} meters,you would be {float(metersOffAtDistance)} meters,\")\n",
        "      print(f\"or {float(inchesOffAtDistance)} inches off.\")\n",
        "\n",
        "def zeroMiss():\n",
        "    in_PerMeter = 1/.0254 # 1 inch = .0254 meters\n",
        "\n",
        "    inchesOff, zeroDistance = welcome()\n",
        "\n",
        "    seperate()\n",
        "\n",
        "    metersOff = inchesOff / in_PerMeter\n",
        "    angle = atan(metersOff/zeroDistance)\n",
        "    print(f\"At {zeroDistance} meters, you were {str(metersOff)} meters off at an angle of {angle:.6f} radians(rounded to the sixth decimal place).\")\n",
        "\n",
        "    seperate()\n",
        "\n",
        "    battleDistance(angle, in_PerMeter)\n",
        "\n",
        "    seperate()\n",
        "\n",
        "    while True:\n",
        "      try:\n",
        "        distance = float(input('At what distance would you like to know how much you will be off? '))\n",
        "        break\n",
        "      except ValueError:\n",
        "        print('Invalid input. Enter a number.')\n",
        "\n",
        "    metersOffAtDistance, inchesOffAtDistance = missedCalculator(angle, in_PerMeter, distance)\n",
        "\n",
        "    print(f\"At {distance} meters, you would be {float(metersOffAtDistance)} meters,\")\n",
        "    print(f\"or {float(inchesOffAtDistance)} inches off.\")\n",
        "\n",
        "    seperate()\n",
        "\n",
        "def query():\n",
        "    inquery = str(input('Query? (y/n): '))\n",
        "\n",
        "    while inquery == 'y':\n",
        "        zeroMiss()\n",
        "        print('')\n",
        "        inquery = str(input('Query? (y/n): '))\n",
        "\n",
        "    print('Goodbye!')\n",
        "\n",
        "query()"
      ]
    }
  ]
}